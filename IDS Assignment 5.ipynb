{
  "nbformat": 4,
  "nbformat_minor": 0,
  "metadata": {
    "colab": {
      "provenance": [],
      "authorship_tag": "ABX9TyMccysp0rD6pwuD8nulQuH8",
      "include_colab_link": true
    },
    "kernelspec": {
      "name": "python3",
      "display_name": "Python 3"
    },
    "language_info": {
      "name": "python"
    }
  },
  "cells": [
    {
      "cell_type": "markdown",
      "metadata": {
        "id": "view-in-github",
        "colab_type": "text"
      },
      "source": [
        "<a href=\"https://colab.research.google.com/github/umair055/IDS-Assignment5/blob/main/IDS%20Assignment%205.ipynb\" target=\"_parent\"><img src=\"https://colab.research.google.com/assets/colab-badge.svg\" alt=\"Open In Colab\"/></a>"
      ]
    },
    {
      "cell_type": "code",
      "execution_count": null,
      "metadata": {
        "id": "ZSWO3uIfG6Ga"
      },
      "outputs": [],
      "source": [
        "import numpy as np\n",
        "import pandas as pd\n",
        "from sklearn.feature_extraction.text import CountVectorizer,TfidfTransformer,TfidfVectorizer\n",
        "from sklearn.metrics.pairwise import cosine_similarity\n",
        "import math\n",
        "\n",
        "#Sentences\n",
        "data=['sunshine state enjoy sunshine','brown fox jump high, brown fox run','sunshine state fox run fast']\n",
        "#Bag of words\n",
        "countvec=CountVectorizer()\n",
        "cdf=countvec.fit_transform(data)\n",
        "bow=pd.DataFrame(cdf.toarray(),columns=countvec.get_feature_names())\n",
        "bow"
      ]
    },
    {
      "cell_type": "code",
      "source": [
        "#Term Frequency (TF)\n",
        "tfidfvectorizer = TfidfVectorizer(use_idf=False)\n",
        "tfidf_wm = tfidfvectorizer.fit_transform(data)\n",
        "tfidf_tokens = tfidfvectorizer.get_feature_names()\n",
        "df_tfidfvect = pd.DataFrame(data = tfidf_wm.toarray(),index = ['S1','S2','S3'],columns = tfidf_tokens)\n",
        "print(\"\\nTF Values:\\n\")\n",
        "print(df_tfidfvect)"
      ],
      "metadata": {
        "id": "CfxRaFKU6sGK"
      },
      "execution_count": null,
      "outputs": []
    },
    {
      "cell_type": "code",
      "source": [
        "#Inver Document Frequency (IDF)\n",
        "tfidf_transformer=TfidfTransformer(smooth_idf=True,use_idf=True) \n",
        "tfidf_transformer.fit(cdf)\n",
        "df_idf = pd.DataFrame(tfidf_transformer.idf_, index=countvec.get_feature_names(),columns=[\"IDF\"])  \n",
        "df_idf"
      ],
      "metadata": {
        "id": "V3RD8cCH5rGf"
      },
      "execution_count": null,
      "outputs": []
    },
    {
      "cell_type": "code",
      "source": [
        "#TF-IDF\n",
        "tfidfvectorizer = TfidfVectorizer()\n",
        "tfidf_wm = tfidfvectorizer.fit_transform(data)\n",
        "tfidf_tokens = tfidfvectorizer.get_feature_names()\n",
        "df_tfidfvect = pd.DataFrame(data = tfidf_wm.toarray(),index = ['S1','S2','S3'],columns = tfidf_tokens)\n",
        "print(\"\\nTD-IDF Values\\n\")\n",
        "print(df_tfidfvect)"
      ],
      "metadata": {
        "id": "uoXqorUct9yP"
      },
      "execution_count": null,
      "outputs": []
    },
    {
      "cell_type": "code",
      "source": [
        "#Cosine Similarity Between S1 and S3\n",
        "S1 = np.array([cdf.toarray()[0]])\n",
        "S3 = np.array([cdf.toarray()[2]])\n",
        "print(\"Cosine Similarity Between S1 and S3 is:\")\n",
        "sim=cosine_similarity(S1, S3)\n",
        "print(sim[0][0])"
      ],
      "metadata": {
        "id": "A35UANPjwLaa"
      },
      "execution_count": null,
      "outputs": []
    }
  ]
}